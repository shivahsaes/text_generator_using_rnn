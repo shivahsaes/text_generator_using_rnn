{
  "nbformat": 4,
  "nbformat_minor": 0,
  "metadata": {
    "colab": {
      "name": "Text_generator_using_RNN.ipynb",
      "provenance": []
    },
    "kernelspec": {
      "name": "python3",
      "display_name": "Python 3"
    }
  },
  "cells": [
    {
      "cell_type": "markdown",
      "metadata": {
        "id": "s_A5rgd4mnzJ",
        "colab_type": "text"
      },
      "source": [
        " Importing our dependencies"
      ]
    },
    {
      "cell_type": "code",
      "metadata": {
        "id": "TIS87Rupmp2O",
        "colab_type": "code",
        "colab": {
          "base_uri": "https://localhost:8080/",
          "height": 34
        },
        "outputId": "3bcccd6f-51f1-498d-ab56-ac839ac1cc22"
      },
      "source": [
        "import keras\n",
        "import numpy as np\n",
        "import random\n",
        "import io"
      ],
      "execution_count": null,
      "outputs": [
        {
          "output_type": "stream",
          "text": [
            "Using TensorFlow backend.\n"
          ],
          "name": "stderr"
        }
      ]
    },
    {
      "cell_type": "markdown",
      "metadata": {
        "id": "kRM4xUQlm2kX",
        "colab_type": "text"
      },
      "source": [
        " Loading the dataset"
      ]
    },
    {
      "cell_type": "code",
      "metadata": {
        "id": "mLc9VZPgm97M",
        "colab_type": "code",
        "colab": {
          "base_uri": "https://localhost:8080/",
          "height": 88
        },
        "outputId": "61f1f1c9-e664-4712-be9d-e5bd54e6c963"
      },
      "source": [
        " path = keras.utils.data_utils.get_file(\n",
        "    'nietzsche.txt',\n",
        "    origin='https://s3.amazonaws.com/text-datasets/nietzsche.txt')\n",
        "with io.open(path, encoding='utf-8') as f:\n",
        "    text = f.read().lower()\n",
        "print(len(text))"
      ],
      "execution_count": null,
      "outputs": [
        {
          "output_type": "stream",
          "text": [
            "Downloading data from https://s3.amazonaws.com/text-datasets/nietzsche.txt\n",
            "606208/600901 [==============================] - 0s 1us/step\n",
            "600893\n"
          ],
          "name": "stdout"
        }
      ]
    },
    {
      "cell_type": "markdown",
      "metadata": {
        "id": "8efAMpqGnNO7",
        "colab_type": "text"
      },
      "source": [
        " Assigning Numerical values to characters"
      ]
    },
    {
      "cell_type": "code",
      "metadata": {
        "id": "IpDrEKpNnV2F",
        "colab_type": "code",
        "colab": {
          "base_uri": "https://localhost:8080/",
          "height": 34
        },
        "outputId": "7c01b677-7760-49ed-ab51-263dbb921699"
      },
      "source": [
        " chars = sorted(list(set(text)))\n",
        "print('total chars:', len(chars))\n",
        "char_indices = dict((c, i) for i, c in enumerate(chars))\n",
        "indices_char = dict((i, c) for i, c in enumerate(chars))"
      ],
      "execution_count": null,
      "outputs": [
        {
          "output_type": "stream",
          "text": [
            "total chars: 57\n"
          ],
          "name": "stdout"
        }
      ]
    },
    {
      "cell_type": "markdown",
      "metadata": {
        "id": "Oc87TgIknlSW",
        "colab_type": "text"
      },
      "source": [
        " Next, we create multidimensional arrays out of the text data that we inputed so that the entire corpus of text is enumerated (is assigned a number instead of a character). This will be used for training and makes everything more coherent."
      ]
    },
    {
      "cell_type": "code",
      "metadata": {
        "id": "jBthKFpunu1S",
        "colab_type": "code",
        "colab": {}
      },
      "source": [
        " sentences = []\n",
        "next_chars = []\n",
        "for i in range(0, len(text) - 40, 3):\n",
        "    sentences.append(text[i: i + 40])\n",
        "    next_chars.append(text[i + 40])\n",
        " \n",
        "x = np.zeros((len(sentences), 40, len(chars)), dtype=np.bool)\n",
        "y = np.zeros((len(sentences), len(chars)), dtype=np.bool)\n",
        "for i, sentence in enumerate(sentences):\n",
        "    for t, char in enumerate(sentence):\n",
        "        x[i, t, char_indices[char]] = 1\n",
        "    y[i, char_indices[next_chars[i]]] = 1"
      ],
      "execution_count": null,
      "outputs": []
    },
    {
      "cell_type": "markdown",
      "metadata": {
        "id": "tKPX5xG9n3Q2",
        "colab_type": "text"
      },
      "source": [
        " model with an LSTM layer"
      ]
    },
    {
      "cell_type": "code",
      "metadata": {
        "id": "KegOwovqn7At",
        "colab_type": "code",
        "colab": {}
      },
      "source": [
        " model = keras.models.Sequential()\n",
        "model.add(keras.layers.LSTM(128, input_shape=(40, len(chars))))\n",
        "model.add(keras.layers.Dense(len(chars), activation='softmax'))\n",
        " \n",
        "optimizer = keras.optimizers.RMSprop(lr=0.01)\n",
        "model.compile(loss='categorical_crossentropy', optimizer=optimizer)"
      ],
      "execution_count": null,
      "outputs": []
    },
    {
      "cell_type": "markdown",
      "metadata": {
        "id": "Rp3o2yQKoFsU",
        "colab_type": "text"
      },
      "source": [
        " This function will compare the sample predictions with the original text. The temperature represents how accurate or confident the model's predictions will be."
      ]
    },
    {
      "cell_type": "code",
      "metadata": {
        "id": "wpwLVhrooHKX",
        "colab_type": "code",
        "colab": {}
      },
      "source": [
        " def sample(preds, temperature=1.0):\n",
        "    preds = np.asarray(preds).astype('float64')\n",
        "    preds = np.log(preds) / temperature\n",
        "    exp_preds = np.exp(preds)\n",
        "    preds = exp_preds / np.sum(exp_preds)\n",
        "    probas = np.random.multinomial(1, preds, 1)\n",
        "    return np.argmax(probas)"
      ],
      "execution_count": null,
      "outputs": []
    },
    {
      "cell_type": "markdown",
      "metadata": {
        "id": "o_5f-95KoOlP",
        "colab_type": "text"
      },
      "source": [
        "Training and testing the model"
      ]
    },
    {
      "cell_type": "code",
      "metadata": {
        "id": "2edLnfttoQpx",
        "colab_type": "code",
        "colab": {
          "base_uri": "https://localhost:8080/",
          "height": 243
        },
        "outputId": "3dd87676-8bca-4afa-a8cb-ab2b2eb9d6dd"
      },
      "source": [
        " model.fit(x, y, batch_size=18, epochs=20)\n",
        " \n",
        " \n",
        "#generating random text\n",
        "start_index = random.randint(0, len(text) - 40 - 1)\n",
        "for diversity in [0.2, 0.5, 1.0, 1.2]:\n",
        "    generated = ''\n",
        "    sentence = text[start_index: start_index + 40]\n",
        "    generated += sentence\n",
        " \n",
        "    for i in range(400):\n",
        "        x_pred = np.zeros((1, 40, len(chars)))\n",
        "        for t, char in enumerate(sentence):\n",
        "            x_pred[0, t, char_indices[char]] = 1.\n",
        " \n",
        "        preds = model.predict(x_pred, verbose=0)[0]\n",
        "        next_index = sample(preds, diversity)\n",
        "        next_char = indices_char[next_index]\n",
        " \n",
        "        generated += next_char\n",
        "        sentence = sentence[1:] + next_char\n",
        "with open('example.txt', 'w') as f:\n",
        "    f.write(generated)"
      ],
      "execution_count": null,
      "outputs": [
        {
          "output_type": "stream",
          "text": [
            "Epoch 1/20\n",
            "200285/200285 [==============================] - 506s 3ms/step - loss: 1.9729\n",
            "Epoch 2/20\n",
            "200285/200285 [==============================] - 545s 3ms/step - loss: 1.8051\n",
            "Epoch 3/20\n",
            "200285/200285 [==============================] - 548s 3ms/step - loss: 1.7821\n",
            "Epoch 4/20\n",
            "200285/200285 [==============================] - 574s 3ms/step - loss: 1.7995\n",
            "Epoch 5/20\n",
            "200285/200285 [==============================] - 581s 3ms/step - loss: 1.8445\n",
            "Epoch 6/20\n",
            "168588/200285 [========================>.....] - ETA: 1:29 - loss: 1.9966"
          ],
          "name": "stdout"
        }
      ]
    },
    {
      "cell_type": "markdown",
      "metadata": {
        "id": "AnI9Eph_ohpf",
        "colab_type": "text"
      },
      "source": [
        "Saving the sample to our Computer(optional)"
      ]
    },
    {
      "cell_type": "code",
      "metadata": {
        "id": "6IuDi7z1olol",
        "colab_type": "code",
        "colab": {}
      },
      "source": [
        " from google.colab import files\n",
        "files.download('example.txt')"
      ],
      "execution_count": null,
      "outputs": []
    }
  ]
}